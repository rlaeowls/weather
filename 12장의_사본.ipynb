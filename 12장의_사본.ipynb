{
  "nbformat": 4,
  "nbformat_minor": 0,
  "metadata": {
    "colab": {
      "provenance": [],
      "authorship_tag": "ABX9TyNqopxylfLBQYNlKm+2xH9m",
      "include_colab_link": true
    },
    "kernelspec": {
      "name": "python3",
      "display_name": "Python 3"
    },
    "language_info": {
      "name": "python"
    }
  },
  "cells": [
    {
      "cell_type": "markdown",
      "metadata": {
        "id": "view-in-github",
        "colab_type": "text"
      },
      "source": [
        "<a href=\"https://colab.research.google.com/github/rlaeowls/weather/blob/main/12%EC%9E%A5%EC%9D%98_%EC%82%AC%EB%B3%B8.ipynb\" target=\"_parent\"><img src=\"https://colab.research.google.com/assets/colab-badge.svg\" alt=\"Open In Colab\"/></a>"
      ]
    },
    {
      "cell_type": "code",
      "execution_count": null,
      "metadata": {
        "colab": {
          "base_uri": "https://localhost:8080/"
        },
        "id": "R0kXehL5617q",
        "outputId": "e8f1e49b-3583-4e6e-9f19-5806cb07863c"
      },
      "outputs": [
        {
          "output_type": "stream",
          "name": "stdout",
          "text": [
            "3.4,3.8,2.9,4.2,5.6,8,5,4,3.1,5.5,4.8,2.6,4.6,4.4,10.3,3.2,1.6,2.1,1.9,3.2,4.2,2.5,6.2,3,1.9,2.5,1.6,2.3,4.9,6.2,4.2,2.6,5.3,1.7,3.2,3.3,4.3,7.6,6.6,2.5,7.2,3.8,1.8,3.9,1.6,2.2,1.2,2.2,3,3.5,2.8,3.6,7.9,5.8,4.1,6.1,1.8,2.8,5.6,2.1,2.2,3.3,3.2,5.9,5,5.1,3.1,3.4,3.7,2.7,2.6,3.1,2.5,5,3.2,2.9,4.5,2.9,2.9,2.1,3.9,6.3,3.9,2,3,6.1,7.1,4,3.5,5.8,6.6,7.2,5.6,3.5,3.2,2.9,3.2,3.3,2.5,7.5,3.1,2.2,2.8,6.7,3.5,5,4.1,1.9,3.9,2.7,5.1,2.2,4.3,8.8,5.2,1.8,3.9,3.9,6.5,4.2,3.7,5.8,5.1,4.2,5.7,3.7,5.4,5.6,6.4,3.4,5.9,5.4,5.4,1.8,3.6,5.1,2.4,2.1,4.3,2.3,7.6,2.9,2,5.2,3.3,3.7,5.3,6.1,4,4.6,2.5,4.3,7.8,11.1,6,6.5,3.1,4.1,5.9,2.4,3.3,5.4,2.6,2.4,3.2,2.3,3.1,5.6,5.6,3.6,3,2.9,2.5,2,2,3.2,4.6,4,3.8,2.8,1.7,3.2,1.9,3.3,2,2.5,2.4,3.5,2.4,4.6,3.5,4.2,5.2,5,5.7,9.7,4.2,7,4.5,4.3,4.4,5.6,5.4,6.3,4.8,2,4.1,6.2,5.9,2.4,5.3,7.4,3.2,4.9,2.8,2.5,5.2,2.9,3.6,2.9,4.2,4,2.9,5.5,4.4,7.1,3.8,4.8,4.1,6.6,6.2,3.8,3.4,5.8,2.9,3.2,5.3,2.7,3.7,2.1,2.7,3.9,3.4,5,5.9,3.3,3,4.2,6.1,8.3,5.4,5.9,7.4,3.3,7,5.3,4,8.8,7,1.9,7,12.1,5,2.5,3,2.5,5.5,6.8,4.5,3.7,4.4,6.2,9,5.5,4.6,4.8,4.5,2.7,2.8,7.6,4.5,9,4.3,6,4,6.9,5.2,7,1.9,2.5,6.6,10.5,8.9,4.4,1.9,2.1,4.3,2.6,2.7,2.7,4,7.9,3.6,3,3.1,1.3,5.9,6.2,3.6,3.3,4.8,5.9,4.2,3.2,4.4,2.7,2.1,2.7,2.1,3,1.6,1.9,1.4,1.9,4.2,8.5,11.1,6.2,5.7,4.5,8.6,7,8,8.2,3.6,2.3,6.6,1.8,3.5,4.7,3.2,9.9,7.6,7,2.9,4.5,5.7,7.3,6.3,5.5,3.4,5.6,10.2,11.8,7.1,2.2,1.1,0.9,1.6,4.5,7.5,8.2,3,2.1,2.2,1.5,2.8,1.5,3.3,2.1,2.1,1.6,4.1,8.2,7.6,2.7,1.8,4.9,6.8,2.5,4,4,5.1,1.5,1.5,2.9,2.6,4.1,6.4,4.9,4.1,2.8,2.2,1.6,1.8,1.8,3.1,8.2,12.5,10.6,7,4.1,2.7,4.4,3.5,4.9,3.7,1.8,1.4,3.3,3.5,2.7,5.6,9.5,8.3,8,9.4,3.8,3.2,0.5,1.3,0.3,2.5,1.7,2.4,4.9,2.3,3,1.5,2.2,2.4,3.9,1.5,1.1,5.1,1.8,1.9,2.2,2.5,1.8,4.3,8.7,3.1,2.1,2.3,3.3,4.5,11.3,3.5,3.6,4.4,2,1.6,1.2,3.8,6.4,4.5,1.5,2.4,2.7,1.2,4.3,7.3,5.3,6.2,5.8,3.5,1.4,1.7,2.4,4.2,3.3,4,2.8,4.4,4.8,3.9,1.7,1.5,6.2,3,1.4,5,7.5,4.2,7.2,10.9,7.7,6.7,8.2,1.4,2.3,3.6,4.3,7.2,6.2,2.1,2.2,2.1,2.1,3.5,3.4,2.4,2.5,1.2,2.3,1.4,2.9,3.9,2.2,3.1,2.9,2.7,1.2,2.1,5.6,5.1,1.9,4.3,6.6,3.7,4.5,1.5,3.8,4.7,2,1.5,2.6,5.6,3,2.3,2,3.7,3.5,1.1,3,7,6.6,4.3,4.6,5.6,2.2,2.2,3.1,2.4,3,4.6,2.7,3.9,3.1,3.8,2.4,3.5,2.2,1.9,5.5,1.4,1.5,0.7,,,,2.4,5,5.5,5,2.5,2.6,3.2,2.6,1.5,5.3,4.6,4.6,6.4,4.5,1.2,1.6,2.5,4.9,6,4.7,7.8,5,2.4,2.6,7.4,4,4.8,4.4,3.4,5,3.1,3.1,3.7,6.9,3.9,3.5,4.3,4.6,6.2,4.1,3.8,4.2,6.2,5.6,8.5,8.9,3.9,3.5,3.3,6,5.4,4.2,4.7,2.9,8.9,4.8,4.5,6.6,4.9,3.4,2.8,5.4,5.9,3.9,2.2,3.7,5,5,6.3,6.3,2.6,3.4,4.7,3.3,6.3,2.4,3.4,2.2,5.8,7.4,5.9,4.1,4.3,3,3.1,2.2,5.5,5.3,2.5,4.4,3.5,2.9,3.9,4.3,3.1,5.1,3.3,3.8,3.7,3.7,2.6,2.6,3,3.2,4.7,2.2,1.6,2.2,2.1,2.8,1.9,4.4,4.6,4.8,4.1,4.1,5,2.2,1.4,4.1,5,4.4,1.9,5.1,3.2,4.1,4.9,3.6,2.2,1.8,2,3.3,5.4,5.2,4.8,5.5,1.6,5.4,3.1,2.9,2,3.3,3.3,6.6,5.1,2.4,3.6,1.8,4.3,2.1,2.7,1.3,3.7,1.2,1.9,3.5,4.6,2.6,2.7,1.8,4.9,3.8,2.5,2.9,3.5,1.5,3.9,4.8,2.4,3.7,2.1,2.5,2.7,3.2,5,4.4,2.6,1.6,1.8,2.3,2.4,4.7,3.1,7.3,5.1,2.7,4.2,6.3,5.8,4.8,6.1,4.2,3.2,2,2.6,2.7,4,8.9,3.4,5.1,1.1,1.5,1.4,5.1,5.1,1.9,1.5,4.1,1.4,4.4,3.4,1.4,2.6,4.8,6.5,9.2,5.2,5.4,3.3,1.5,1.2,3.2,5.2,4.9,5.2,3.5,4,2.8,3.3,4.2,4.7,5.3,5.8,3.1,1.4,3.1,6.4,3.8,2.9,2.9,5.4,2.3,3.2,4.5,3.9,2,4.7,4.4,2.3,4.9,3.3,6.2,3.6,4,2.8,1.3,3.1,5.2,3.1,5.9,2.6,6.1,3.6,2.3,2.6,4.6,4,2.8,1.8,5.6,5.1,5.4,8.2,5,4.2,4.9,6.1,3.7,3.8,4.4,2.4,2.8,1.9,6.6,3.6,2.8,3.6,2.6,8,2.4,2.2,6.1,2.7,4.5,4.9,4.4,4.6,3.1,6.1,3.4,4.1,6.1,3.3,4.6,3.5,4.6,2.8,3.4,7,3.6,2.6,1.8,5.4,3.8,2.8,4.2,2.8,2.9,5.5,5.7,4.3,4.1,4.3,5.5,2.8,1.9,3,2.1,1.9,2.2,4.2,2.2,2.4,5.7,2.6,5.8,3.6,4.3,8.6,3,2,3.1,3,7.9,3.5,5.3,3.4,3,4.4,2.4,2.4,2.4,2.2,4.6,3.7,2.4,4.1,2.1,2.4,4.3,4.5,1.8,3.4,4.4,2.9,4,2.6,5.7,4.3,3.5,6.7,3.2,3.4,2.4,4.1,3.9,4.2,2.4,3.6,3.8,3.6,7.2,5,1.8,2.1,5.4,4.6,6.7,5.9,6.1,5.1,3.1,7.3,8.3,4.1,6.4,5.4,5.8,4,3.4,7,4.7,5,3.2,4.4,5.7,2.2,5,2.7,4,1.7,3.6,3,2.9,5.3,5,1.9,6.9,7.9,4.8,5.7,3.3,4.6,3.2,8.4,7,3.8,6.1,5.4,5.3,4.2,1.6,2.4,5.3,5.7,5,3.9,3.4,3.9,3.6,7.8,6.1,5.7,0.8,3,2.4,4.6,6.1,3.2,6,3.9,6.2,3.8,7.9,3.7,3,3.2,5,2,3.9,1.8,4.4,4.8,3.3,2.1,5.3,2.4,3.9,3.5,3.7,5.7,5.7,2.1,1.2,1.6,0.2,2.6,1.9,2.2,1.4,0.5,2.2,4.7,3.4,0.6,0.4,0.2,2,4.5,2.6,2.1,1,1.7,1.3,1.6,2,1.5,1.3,4.2,1.4,0.5,0.9,0.9,4.1,6,7.8,5.3,6,2.4,5.2,9.1,8.9,5,4.9,7.8,2.6,4.9,2.8,7.6,8.8,3.1,2.1,4.5,6.8,3.6,6.3,9,5.3,2.8,1.7,3.3,4.9,1.1,4.6,1.4,2.1,3.5,2.8,2.1,3.2,2.7,4.6,6.4,3.8,1.6,3,2.5,3.1,2.7,4.1,6.5,6.3,2,2.9,2.7,3.5,3.2,1.3,2.9,1.6,1.9,2.5,6.3,2.9,5.2,3.4,3,1.8,5.9,4.3,2,1.8,0.8,1.3,1,1.7,2.1,5,3.7,5,5.7,3.6,2,2,3.9,1.5,5.8,2,3,6.2,4,1.5,1.3,4.5,4.4,4.6,3.9,3,1.7,3.1,5.4,2.7,5.6,6,2.1,5,4.1,2.1,3.6,10.1,8.4,1.5,2.3,3.8,5.3,7.9,7.1,5.3,2.6,4.4,4.6,2.5,3.6,2.7,4.8,2.1,2.1,3.3,2.2,5,3.2,6.2,4.1,4.1,3.4,5.3,5.3,3.9,4,4.2,1.6,2.1,5.9,5.6,3.7,2.1,1.5,1.7,2.2,2.2,9.3,5.8,5.1,3.4,2.3,2.8,2.3,2.3,2.1,3.4,2.9,3.5,2.9,1.9,5.8,5,4.5,5,4.4,4.8,2.6,2.8,5.6,7.3,6.4,7.2,7.1,6.2,3,5.6,3.3,3.4,7.1,3.4,3.4,5.2,5.5,4.7,3.1,4.4,7.6,3.7,2.8,3.8,3.5,6.4,2.6,2.4,3.4,3.7,2.5,2.6,2.1,3.3,4.5,3,4.2,6.8,2.6,3,7.1,4.7,5.5,6.4,4.4,5.3,6.3,3,4.5,4.3,5.3,5.5,3.5,3.3,5.8,6.3,7.9,8.1,6.2,5.5,6.9,6.7,6,2.3,7.1,7.2,3.8,2.5,3.4,3.2,1.9,1.6,1.7,1.6,1.9,4.9,1.5,5.9,2.9,4.3,5.8,3.1,4,2.7,5.5,3.8,6.5,4.7,9.4,3.8,6.1,4.7,5.8,9.1,2.9,3.8,4.8,3.5,3.2,4.7,8,4.1,3.4,6.8,5.3,5.6,2.2,5,5.6,5.2,7.3,2.3,4.3,6.2,3.3,4.2,6.2,2.8,2.3,1.6,3.3,4.6,3.2,2.6,5.5,4.2,2.1,3.4,1.6,3.8,6,3.8,5.5,5,4.5,5.2,1.2,2.5,4.1,6.1,6,4.5,4.6,4.9,6.6,3,1.8,2.4,6.4,9,6,4.6,3.7,2.3,2.3,4.2,4.9,2.8,1.8,2.3,5.6,5.3,6.1,8.6,8,4.9,2.9,2.8,3.2,3.7,3.2,2.6,4.5,2.6,1.4,1,1.3,3,5.9,3.6,1.4,3.3,2.6,1.9,2.5,2.4,2.9,3.6,3.9,3.7,1.2,1.3,2.2,3.1,3.2,2,1.4,1.5,1.9,1.3,3.9,6.5,5.5,1.1,1,3,4.2,1.7,2.7,4.3,3.6,2.9,3.2,2.5,4.3,2.1,1.9,1.3,4.3,4,4.7,2.4,3.4,7.8,3.4,1.2,2.1,3.1,4.3,2.8,2.2,2.9,5.4,3.1,1.4,3.7,4.5,7.1,7.7,3.7,1.7,2.8,2.4,3.8,3.4,3.3,4.8,1.5,1.5,5.4,4.7,3,2.4,4.2,6.1,4.9,3.9,3.3,4,3.3,3.3,2.6,4.6,3.1,2.4,2.2,1.5,2.5,3,3.2,2.3,2.1,3.7,2.1,1.7,3.5,2,2.3,3,2.3,1.2,1.1,1,6.1,6.9,3.6,3.1,3.6,2.7,7.2,3.1,2.7,5,7.3,6.8,7.7,3.1,1.5,2,5.3,4.9,4.4,11.2,5.4,1.6,3.4,2.9,1.7,3.9,4.5,7.7,7.6,2.6,4.9,5.1,4.3,5.1,2,2.2,1.5,1.3,4,4.5,2.6,2.3,4,4.1,4.5,1.7,3.2,1.7,3,5.8,3.9,2.9,2.4,1.7,3,1.8,2,3.1,4.9,3,2.9,2.7,7.1,4.7,1.4,1.7,5.1,2.3,5.3,4.7,5.9,4.2,3.4,3.5,2.2,2.4,3.1,3.4,3.3,3.2,3,2.5,2.4,4.7,3.9,3.1,4.3,5.3,4,3.9,3.2,3.7,3.6,2.5,1.7,2.8,2.7,3.8,3.1,4.9,4,3.3,2.4,3.4,4.6,3.1,1.5,2.4,2.1,5.4,4.9,2.5,2.1,5.5,4.3,4.2,3,3.3,2,2.6,8.7,3.9,2.6,1.9,2.8,6.4,5.8,2,4,6,1.5,3,3.2,1.6,7.9,2.5,2.6,5,3.2,4,3.7,3.7,2.9,4.9,4,3.2,4,6.3,6.1,2.6,2.1,5.8,2,2.5,1.8,5,5,2.8,2.7,3.1,4.1,4.7,4,1.5,1.6,1.5,3.2,4.8,4,4,2.3,2.3,4.6,3.4,2.8,6.1,4.4,3,3.1,,4.6,3.6,2.4,3.6,3.5,3.5,3.5,5,4.3,,2.7,7.7,4,2.3,3.7,5.8,2.9,1.3,2.3,2.8,3.9,7,4,3.7,6.1,5.9,5.8,3.8,5.4,4.4,2.6,5.8,3.2,3.7,4.8,4.9,5,2.7,2.3,4.3,5.2,3.5,6.1,5.2,2.6,3.1,2.5,4.7,2.8,2.8,6.4,9.6,8.6,2,2.8,4.1,5.6,3.5,2.7,4.7,7,3.1,2.1,3.6,3.7,3.8,2.4,4.3,2.5,3,5.5,3.6,8,2.8,4.1,1.9,3.7,3.8,2.7,3.3,2.3,3.9,2.8,2.8,1.6,3,2.9,4.6,3.9,0.9,1.5,2.7,1.5,1.5,2.4,5.9,6.1,2.9,4.6,2.3,3.5,4.1,2.1,1.3,1.8,1.9,1,5.3,4.3,2.2,2.6,4.3,8.4,5.8,5.9,9.5,10.8,1.1,2.5,2.8,2.1,1.8,4.6,8.5,7.6,6.3,2.7,1.7,2.9,3,3.5,2.5,3.9,5.8,4.9,4.4,3.1,1.8,1.2,2,1.8,1.6,3.6,1.6,1.1,1.4,2.3,4.4,5.3,1.5,1.8,3.6,1.2,1.5,5.6,14.9,8.1,6.7,2.2,1.7,1.1,1.7,7,2.1,2.2,3.6,2.2,7.1,7.1,8.1,11.2,5.9,2.1,3.7,1.8,1.3,3.9,4.1,6.7,5.9,2.7,1.5,1.7,1.4,1.5,3.9,4.7,1.3,2.3,4.6,4.2,2.3,4.3,6.3,7,3,1.6,2.4,1.6,1.8,4,3.5,5.9,3,2.9,2.7,2,1.3,2.1,3.9,4.1,4.7,3.9,4.5,3.4,5.6,5,1.8,4.7,3.8,3.5,2.6,2.2,1.4,2.4,1.8,5.1,4.6,7.3,6.6,7.6,5.7,5.3,5.4,4.3,5,3.9,2.6,1.3,5.5,10.6,3.9,2.6,1.7,6.4,4.4,8.6,5.3,5.4,4.1,2.7,1.7,4.9,1.5,3.9,6.6,7.7,4,1.5,4.6,2.8,2.2,2,11.6,3.7,4.7,2.3,3.3,4.2,3.7,3.1,3,2.9,1.3,1.8,2.4,2.9,3.8,4.9,6.5,2.1,1.5,1.5,3.7,3.1,3.4,2.1,3.2,2.3,2.3,2.2,1.8,2.8,2.5,5,2.4,2.8,2.7,2.5,3.3,2.3,5.3,5.8,5.7,5.9,6,4.3,5.8,2.1,3.2,3.7,3.5,8.5,6.5,4.4,5.2,5.2,2.6,1.9,2.3,5.5,3.1,4.9,5.4,1.9,2.6,4.9,5,5.9,4.4,3.6,4.3,4.1,4.6,6.5,2.7,2.1,4.5,5.5,2.7,3.2,3.3,3.6,5.7,3.3,5.6,3.4,1.5,3.5,4.9,3.6,5.4,6.8,3.7,3.3,2,2.6,5.2,3.3,5.8,3,5.8,7.5,5.8,3.7,5.3,6.7,5.9,2.7,3,3.4,2.8,8.1,4.5,3.3,2.8,3.3,6.1,4.2,5.5,4.5,5.3,5.9,8,7.8,4,3.2,6.2,4.4,4.4,5.3,6.7,4.5,3.3,5.9,2.8,5.6,4.9,1.9,4.6,4.3,7.2,8.3,3.8,5.5,4.5,5.4,7.2,8.3,4,7.3,4.9,2.2,1.7,5.8,4.7,6.2,6.1,3.6,5,4.2,3.3,4.3,2.6,3.4,3.7,2.7,2.6,5.4,3.5,1.6,3.8,4.1,3.9,2.8,4.9,3,2.9,5.4,5.9,2.5,2.8,1.1,1.5,3,2.4,4.8,4.7,3.7,2.3,3.4,3.7,3.9,4.2,3.3,2.6,3.7,2.9,2.1,4.4,3.3,2,3.5,2.5,1.2,3.8,6.2,4.5,2,3.6,5.4,2.8,1.5,3.3,3.3,4.2,2.5,2.8,1.7,5.5,5.8,3.4,1.5,1.3,2.6,3.3,2.5,2.3,1.5,3.5,1.7,2.3,5.7,6.3,3.3,2.4,2,1.8,1.8,1.1,1.8,1.2,1.9,3.3,3.5,3.8,2.7,3.5,2.8,3.5,1.3,3.9,3.3,3.6,1.5,1.9,4.4,5.2,5.1,3.5,1.7,2.8,9.7,5.3,7.2,13.3,7.4,10.7,7.4,2.7,3.8,1.8,1.1,2.1,1.9,2.7,2.7,2.7,3.1,2.2,4.6,1.2,1.4,3.1,4.2,8.4,8.8,9.5,4.8,3.1,1.3,1.2,2.7,1.4,1.9,5.5,6.3,1.8,1.6,2,4,5.7,6.5,4.1,2.5,3.8,5,1.8,3.1,4.7,1.9,2.4,2.1,2.4,1.7,3.1,2.6,6.8,4.7,3.6,9.2,2.5,3.8,2.3,3.5,4.3,6.4,3.9,4.2,5.4,3.5,4.1,4.4,6.7,7.8,2.4,7.7,5,2.2,4,3.9,2.8,3.9,7,2.8,2.1,3.4,2.7,4.3,1.3,8,5.9,4.6,2.4,3.7,2.2,2.8,5.1,3.6,3.8,2.7,3.5,5.3,4.2,3.1,3.9,3.9,5.3,4.3,3.6,4.2,5.9,9.8,5.5,3.8,2.6,2.4,2.8,3.8,1.6,6.6,4.7,6.8,2,4.1,10.7,4.7,3,2.7,1.7,3.5,3,3.8,4.4,8.4,2.6,1.4,4.5,4.6,3.7,2.9,4.2,3.7,5.9,5,7.2,2.9,3.2,2.5,7.9,3.8,4.5,5.1,4.7,2.3,5.8,5,2.4,2.4,6.4,2.8,3.4,4.1,2.8,1.3,3.7,5.1,4.3,2.3,7.6,4.7,4,2.9,2.8,3.8,3.7,7.8,6,4.4,3.9,6.8,3.9,1.4,5.8,2.3,3.3,3.4,1.7,3.2,2.8,6.8,4.2,3.3,2.3,5.1,3.2,2.7,3.7,2.6,2.8,3.9,4.4,7.4,7.6,2.1,2.1,3.6,4.5,3.5,5.7,3.2,5.5,2.1,2.3,1.9,1.5,3.2,3.1,5.6,4.6,1.8,3.2,5.9,4,5.2,5.6,3.1,2.9,7,4.2,5.7,4.7,4.4,8.7,6.9,5.1,6.8,4.6,2.7,1.8,4.7,3.1,5.4,5.3,7.5,3.4,3.5,6.7,5.8,8.5,5.2,1.7,3.2,5.2,5.4,5.5,6.2,5.1,3.2,2.3,4.5,6.6,2.8,5.8,4.3,1.5,2.3,5.4,3.8,3.3,5.3,2.2,1.7,2.9,6.3,6.4,2.9,5.2,2.9,4.8,4.1,4.1,4.2,2.4,1.6,4.6,1.8,4,4.9,6.2,3.9,2.9,4.8,2.3,3.8,5.5,3.1,1.4,2.3,4.2,3.9,4.3,3,1.9,2,2.4,1.8,1.2,1.3,3.2,5.1,6.6,7.5,8.5,2.5,1.6,2.8,3.3,6.6,3.2,8.3,5.6,1.9,4.6,3.9,7.1,3.9,2.4,1.7,2.9,4.1,5.2,3.4,1.5,2.4,5.1,5,2,1.4,3.2,1.6,1.2,1.3,1.8,2.6,2.4,2.4,1.6,2.2,1.3,2.8,5.5,6.3,6.2,5.9,4.3,6.1,5.1,5.3,4.6,3.5,2.3,3.5,5.6,5.1,10.6,3.6,2.9,1.4,2.7,4.2,1.3,3.2,6.8,5.6,3,1.3,1.1,1.7,1.4,2,2.8,2,4.5,2.4,4.8,2.5,6,6.3,8,3.5,3.7,4.8,1.4,1.5,2.4,2.5,1.9,1.7,5.5,5.4,5.6,5.3,4.2,3.4,7.4,4.9,2.5,2.5,3.8,1.2,3.3,4.5,4.2,5.2,4.6,5.4,4,1.7,4.9,5.8,4.3,3.7,5.5,12.7,7.6,2.9,1.1,1.6,2.7,4.6,6.8,4.3,3.8,3.9,1.2,3.9,7.4,3.2,5.1,2.4,5.2,3.4,4.8,3.5,2.8,4.9,3.5,3.9,1.9,3.6,6.6,3,2.4,3.3,4.4,3.7,3.9,4.5,5.1,2,6,4.1,4,3.4,2.6,3.4,3.8,3.4,3.5,4.5,5.2,1.9,5.4,5.5,2.9,3.5,3.6,3,3.6,3.1,4.5,3.1,2,2.8,2.5,2.6,3.2,3.7,3.6,3.6,2.4,3.3,2.3,3.1,2.7,3.3,3.8,4.3,2.3,2.8,1.6,2.9,6.5,4.5,4.6,2.7,2.8,3.6,5.3,2.9,3.7,3,1.5,2,3.3,3.2,4.4,2.7,2.8,3.8,2,3.8,2.8,2.4,2.7,2.7,4.5,3.9,5.9,5.4,4.2,4.1,3.7,5.6,3.7,5.6,4.2,4.7,8,3.2,2.6,4.4,2.1,2,3.7,4.7,3.6,4.8,6.5,2.8,3.3,4.9,5.6,6.9,4.2,5.1,5.3,11.8,3.3,2.4,10.6,7.2,2.5,3.5,3.3,10,4,9,10,3.7,4.8,9.1,12,11.8,5.8,2.5,3.5,3.5,2.4,2.4,5.6,5.5,3,5,3.1,4.3,4.7,6.7,4.3,4,3.6,3.6,2.6,5.4,5.9,5.5,3.1,3.3,3.8,3.8,2.7,3.9,3.9,3.4,5.9,5.1,8.9,10.2,4.4,5.3,4.4,5.8,5.8,3.6,2.7,3.1,5.7,4.3,9.6,5.4,5.1,7.4,5.5,3.5,4.6,5.5,3.8,4.1,3.8,9,6.5,3.6,6.5,6.9,4,2.4,5.2,7.4,3,2.9,2.2,2.6,2.3,3.6,2.6,2.8,5.5,5.2,5.2,3.6,4.2,5.7,4.3,6,5.6,5.3,3.1,3,3.3,6.3,3.2,2.6,3,4.9,3.5,5.4,4,5.8,2.9,1.9,5.9,7.8,5.1,5.6,5.2,3.5,5.3,3.1,4.8,3.4,7.5,7.6,5.4,3.4,2.2,2.7,3.8,3.2,3.3,3,3.1,3.4,1.5,3.1,4.4,6.9,6.4,1.6,1.4,3.3,2.7,1.7,5,10,3,2.8,2,1.2,2.6,3,2.7,4.2,2.9,3.3,3.6,3.3,3.3,1.5,2.4,3.2,1.2,6.7,4.2,1.8,1.3,1.4,4.7,2.3,3.4,6.2,5.8,3.4,2.1,1.8,5,7.9,2.7,6.3,2.1,2.8,2.5,4.1,4.7,5.7,2.4,6.2,7,4.8,3.9,2.4,4.3,3.3,1.5,1.5,1.1,1.3,4.7,5.4,1.6,3,3.6,4.6,6.3,5.5,3.9,3.5,3.8,5.9,2.6,2.5,5.3,7.5,7,2.2,3.4,1.8,5.1,2.6,3.4,2.4,2.1,2.3,3.3,6,9.6,7.9,1.7,1.4,1.3,3.6,2.1,1.5,3.6,5.3,5.9,3.7,2.5,2.4,1.9,1.7,2.8,2.6,2.4,5.5,4,2.8,7.2,3.5,2.5,5.1,4.6,6.2,2.8,3.5,4.7,2.8,2.6,4.3,3.6,4.3,1.8,2.6,1.5,2.7,3,4.3,3.4,2.7,3.7,2.2,4.2,5.7,5.5,4,3,2.9,2.1,3.6,2.8,4.8,3.6,5,4,3.8,2.6,3.5,4.4,2,2.4,4.6,3.3,2.5,2.1,2.8,3.9,4,4,3.9,3.1,2,1.8,1.5,3,3.5,4.3,2.6,2.9,5,3,2.3,2.4,3.2,1.9,4.6,3.2,2.8,2,1.3,2.9,3.5,3.5,5,2.6,5.5,7.3,3.7,5.4,2.2,3.4,7.9,4.8,2.5,5.7,3.5,3.7,3.3,3.9,4.4,5.9,4.2,3.9,2.4,4.2,4.8,3.5,4.1,3,1.9,2.3,3.3,2,2,5.7,4.4,4.6,2.7,2.7,2.7,1.2,1.7,2.2,4.6,2.8,4.1,8.1,2.4,6.5,4.1,4.1,4,3.7,3.2,4.4,4.5,3.9,5.6,2.8,3.3,4.6,5.1,3.7,3.8,4.3,4.5,6.9,4.4,1.7,2.8,3.8,5,3.4,3.6,7.8,7.6,2.5,4.5,6,2.4,6.7,2.4,2.8,4.3,5.4,3.7,4,2.9,,2.3,3.4,2.2,2.4,4.6,3.4,8.2,8,3.3,3.7,2.1,3.1,1.8,5.2,4.1,3.2,4.6,6.6,5.7,4.9,3.5,1,2.2,3.3,2.7,2.9,3.3,4.2,4.2,2.7,2.4,5.7,6.7,6.2,4.3,3.8,2.4,4,5.8,4.8,4.8,4.6,6.3,4.3,3.9,3.8,4.3,3.7,3.5,8.9,4.8,3.8,6.4,5.7,2.9,3.2,4.4,6.5,4.1,2.8,2.3,2.5,2.7,3.5,4.9,5.2,2.5,2.5,3.7,2.5,3.8,2.3,3.8,2.6,2.5,3.3,2.8,3.4,5.7,5.6,5.8,5.9,6.1,3.3,3.2,2.4,1.9,1.8,2.6,1.4,3.2,3.1,3.4,5.3,6.9,1.8,3.5,4.1,6.7,3.7,6.9,7.2,7.9,8.2,4.3,1.5,1.4,1.5,2.7,4.6,4.3,4.6,2.3,3.1,3.5,2.6,3.4,6.8,7.9,4.6,6,2.5,3.4,5.3,2.1,1.8,3.2,1.4,2.1,1.2,2.2,2.3,3.1,3.9,2.5,2,3.1,3,2.6,2.3,2.4,3.5,5,1.8,2.2,6.2,6.2,3.7,1.3,5.6,5.7,5.7,4.5,3,2.3,3.8,11.9,11,1.4,2.3,1.4,2.1,1.3,1.6,1.4,1.1,3.2,5.2,5.5,6.1,5,1.5,4,2.3,1.7,5.6,12.7,6.8,5.1,6.2,2,3.1,6.6,5.9,1.1,3.3,5.2,5.2,6.5,4.7,3.6,3.1,2.8,4.1,2.6,5,3.9,2.1,5.8,5,3.8,3.1,5.4,2.3,4.1,2.6,3.3,2.6,4.8,3.1,6.1,2.8,2.2,4.7,3.9,1.8,1.2,1.4,1.7,3.4,9.7,2.2,5.5,8.7,4.3,3.5,2,2.9,3.7,3,3.2,3.3,2.6,1.9,3.6,5.7,6.7,2.9,3.7,5.6,2.2,1.6,5.1,6.3,4.6,1.9,2.8,2,5.2,1.9,3.6,2.6,6.5,2.1,1.7,2.8,3,1.8,2,2.3,4,2.2,1.7,1.9,8.2,4.4,2.8,1.9,4.9,2.9,4,3.7,2.3,3.8,4.1,3.3,3,2.8,3.1,1.9,5.5,2.2,5.7,7.6,11.6,6.6,7.7,5.3,2,2.4,3.6,3.4,5.9,5.2,3.5,5.3,3.4,3.4,2.3,2.5,2.3,2.3,2.5,3.8,3.4,2.8,1.8,1.9,3.2,4.8,3.6,4.6,6.5,7.2,5.9,2.3,4.4,1.8,5.5,3,3.8,3.9,2.2,1.5,4,2.6,5.3,3.5,5.1,4.6,3.4,5.4,5.6,6.3,4.4,8.5,4.9,6.7,4.9,3.5,1.7,4.2,5.6,6.5,2.8,2.7,1.7,1.9,4.9,5.7,3.9,6.1,2.5,3.6,2.9,4.5,5.2,3.1,3.2,5.3,10.5,2.6,3.7,3.3,2.3,5.5,4,3.6,3.8,3.6,2.1,5,9.9,4.1,2.3,5.5,4,4.3,7.9,4.4,5.9,6.7,3.7,3.8,2.8,3.5,3.8,4.5,5.6,6.3,6.2,4.3,4.2,1.6,1.2,2.4,5.1,4.9,3.3,2.5,2.3,5.3,2,1.5,2.4,2.6,1.5,1.8,3.1,5.6,3.7,3.4,3.9,4.4,3.1,2.2,4.7,6.5,6.3,3.2,2.5,3.6,5.4,6,5.3,4.1,4.7,3.4,1.7,1.6,1.9,2.3,1.9,2.2,4.5,2.4,1.4,1.5,4.8,8.7,2.4,3.1,3,3.9,2.1,2.3,2.3,1.4,1.9,4.1,2.4,4.6,9.4,3.4,1.8,2,1.4,1.7,7.3,2,1.9,2.3,2.8,1.1,2.8,1.7,1.6,1,2.4,2.5,"
          ]
        }
      ],
      "source": [
        "import csv\n",
        "\n",
        "f = open('/content/weather (1).csv', encoding='cp949')\n",
        "data = csv.reader(f)\n",
        "header = next(data)\n",
        "for row in data:\n",
        "  print(row[3], end=',')\n",
        "f.close()\n"
      ]
    },
    {
      "cell_type": "code",
      "source": [
        "max_wind = 0.0\n",
        "for row in data:\n",
        "  if row[2] == '':\n",
        "    wind = 0\n",
        "  else :\n",
        "    wind = float(row[2])\n",
        "  if max_wind < wind:\n",
        "    max_wind = wind\n",
        "print('지난 10년간 울릉도의 최대 풍속 ', max_wind, 'm/s')"
      ],
      "metadata": {
        "colab": {
          "base_uri": "https://localhost:8080/"
        },
        "id": "Wwnf7dBm7JUD",
        "outputId": "05fdb750-2bc2-4d50-85c4-e7e3d4d640dd"
      },
      "execution_count": null,
      "outputs": [
        {
          "output_type": "stream",
          "name": "stdout",
          "text": [
            "지난 10년간 울릉도의 최대 풍속  0.0 m/s\n"
          ]
        }
      ]
    },
    {
      "cell_type": "markdown",
      "source": [
        "### 12-1"
      ],
      "metadata": {
        "id": "qpQ8DbHFAiRk"
      }
    },
    {
      "cell_type": "code",
      "source": [
        "import csv\n",
        "import matplotlib.pyplot as plt\n",
        "\n",
        "f = open('/content/weather (1).csv',encoding='cp949')\n",
        "data = csv.reader(f)\n",
        "header = next(data)\n",
        "\n",
        "monthly_wind = [ 0 for x in range(12)]\n",
        "days_counted = [ 0 for x in range(12)]\n",
        "\n",
        "for row in data:\n",
        "  month = int(row[0][5:7])\n",
        "  if row [3] != '':\n",
        "    wind = float(row[3])\n",
        "    monthly_wind[month-1] += wind\n",
        "    days_counted[month-1] += 1\n",
        "for i in range(12):\n",
        "  monthly_wind[i] /= days_counted[i]\n",
        "plt.plot(monthly_wind, 'blue')\n",
        "plt.show\n",
        "\n",
        "f.close"
      ],
      "metadata": {
        "colab": {
          "base_uri": "https://localhost:8080/",
          "height": 448
        },
        "id": "lrf05T9o7MJC",
        "outputId": "a7281cd7-9ed7-4060-9424-eb941c559e4f"
      },
      "execution_count": null,
      "outputs": [
        {
          "output_type": "execute_result",
          "data": {
            "text/plain": [
              "<function TextIOWrapper.close()>"
            ]
          },
          "metadata": {},
          "execution_count": 3
        },
        {
          "output_type": "display_data",
          "data": {
            "text/plain": [
              "<Figure size 640x480 with 1 Axes>"
            ],
            "image/png": "[encoded data removed]"
          },
          "metadata": {}
        }
      ]
    },
    {
      "cell_type": "code",
      "source": [
        "pip install pandas"
      ],
      "metadata": {
        "colab": {
          "base_uri": "https://localhost:8080/"
        },
        "id": "NWZaUDO__UG1",
        "outputId": "931c05f7-79fc-4065-d37d-02c18abc9229"
      },
      "execution_count": null,
      "outputs": [
        {
          "output_type": "stream",
          "name": "stdout",
          "text": [
            "Requirement already satisfied: pandas in /usr/local/lib/python3.10/dist-packages (1.5.3)\n",
            "Requirement already satisfied: python-dateutil>=2.8.1 in /usr/local/lib/python3.10/dist-packages (from pandas) (2.8.2)\n",
            "Requirement already satisfied: pytz>=2020.1 in /usr/local/lib/python3.10/dist-packages (from pandas) (2023.3.post1)\n",
            "Requirement already satisfied: numpy>=1.21.0 in /usr/local/lib/python3.10/dist-packages (from pandas) (1.23.5)\n",
            "Requirement already satisfied: six>=1.5 in /usr/local/lib/python3.10/dist-packages (from python-dateutil>=2.8.1->pandas) (1.16.0)\n"
          ]
        }
      ]
    },
    {
      "cell_type": "markdown",
      "source": [
        "### 12-2"
      ],
      "metadata": {
        "id": "-zpFY_N_Akga"
      }
    },
    {
      "cell_type": "code",
      "source": [
        "import pandas as pd\n",
        "import matplotlib.pyplot as plt\n",
        "\n",
        "weather = pd.read_csv('/content/weather.csv',encoding='cp949')\n",
        "monthly = [ None for x in range(12)]\n",
        "monthly_wind = [ 0 for x in range(12)]\n",
        "weather['month'] = pd.DatetimeIndex(weather['일시']).month\n",
        "\n",
        "for i in range(12):\n",
        "  monthly[i] = weather[ weather['month']== i + 1]\n",
        "  monthly_wind[i] = monthly[i].mean()['평균풍속']\n",
        "\n",
        "plt.plot(monthly_wind, 'red')\n",
        "plt.show"
      ],
      "metadata": {
        "id": "_6rprFyb7SJq",
        "colab": {
          "base_uri": "https://localhost:8080/",
          "height": 909
        },
        "outputId": "0ea53b1e-a687-423c-f119-fd6802b13b0c"
      },
      "execution_count": null,
      "outputs": [
        {
          "output_type": "stream",
          "name": "stderr",
          "text": [
            "<ipython-input-9-1ca6de8c0ff0>:11: FutureWarning: The default value of numeric_only in DataFrame.mean is deprecated. In a future version, it will default to False. In addition, specifying 'numeric_only=None' is deprecated. Select only valid columns or specify the value of numeric_only to silence this warning.\n",
            "  monthly_wind[i] = monthly[i].mean()['평균풍속']\n",
            "<ipython-input-9-1ca6de8c0ff0>:11: FutureWarning: The default value of numeric_only in DataFrame.mean is deprecated. In a future version, it will default to False. In addition, specifying 'numeric_only=None' is deprecated. Select only valid columns or specify the value of numeric_only to silence this warning.\n",
            "  monthly_wind[i] = monthly[i].mean()['평균풍속']\n",
            "<ipython-input-9-1ca6de8c0ff0>:11: FutureWarning: The default value of numeric_only in DataFrame.mean is deprecated. In a future version, it will default to False. In addition, specifying 'numeric_only=None' is deprecated. Select only valid columns or specify the value of numeric_only to silence this warning.\n",
            "  monthly_wind[i] = monthly[i].mean()['평균풍속']\n",
            "<ipython-input-9-1ca6de8c0ff0>:11: FutureWarning: The default value of numeric_only in DataFrame.mean is deprecated. In a future version, it will default to False. In addition, specifying 'numeric_only=None' is deprecated. Select only valid columns or specify the value of numeric_only to silence this warning.\n",
            "  monthly_wind[i] = monthly[i].mean()['평균풍속']\n",
            "<ipython-input-9-1ca6de8c0ff0>:11: FutureWarning: The default value of numeric_only in DataFrame.mean is deprecated. In a future version, it will default to False. In addition, specifying 'numeric_only=None' is deprecated. Select only valid columns or specify the value of numeric_only to silence this warning.\n",
            "  monthly_wind[i] = monthly[i].mean()['평균풍속']\n",
            "<ipython-input-9-1ca6de8c0ff0>:11: FutureWarning: The default value of numeric_only in DataFrame.mean is deprecated. In a future version, it will default to False. In addition, specifying 'numeric_only=None' is deprecated. Select only valid columns or specify the value of numeric_only to silence this warning.\n",
            "  monthly_wind[i] = monthly[i].mean()['평균풍속']\n",
            "<ipython-input-9-1ca6de8c0ff0>:11: FutureWarning: The default value of numeric_only in DataFrame.mean is deprecated. In a future version, it will default to False. In addition, specifying 'numeric_only=None' is deprecated. Select only valid columns or specify the value of numeric_only to silence this warning.\n",
            "  monthly_wind[i] = monthly[i].mean()['평균풍속']\n",
            "<ipython-input-9-1ca6de8c0ff0>:11: FutureWarning: The default value of numeric_only in DataFrame.mean is deprecated. In a future version, it will default to False. In addition, specifying 'numeric_only=None' is deprecated. Select only valid columns or specify the value of numeric_only to silence this warning.\n",
            "  monthly_wind[i] = monthly[i].mean()['평균풍속']\n",
            "<ipython-input-9-1ca6de8c0ff0>:11: FutureWarning: The default value of numeric_only in DataFrame.mean is deprecated. In a future version, it will default to False. In addition, specifying 'numeric_only=None' is deprecated. Select only valid columns or specify the value of numeric_only to silence this warning.\n",
            "  monthly_wind[i] = monthly[i].mean()['평균풍속']\n",
            "<ipython-input-9-1ca6de8c0ff0>:11: FutureWarning: The default value of numeric_only in DataFrame.mean is deprecated. In a future version, it will default to False. In addition, specifying 'numeric_only=None' is deprecated. Select only valid columns or specify the value of numeric_only to silence this warning.\n",
            "  monthly_wind[i] = monthly[i].mean()['평균풍속']\n",
            "<ipython-input-9-1ca6de8c0ff0>:11: FutureWarning: The default value of numeric_only in DataFrame.mean is deprecated. In a future version, it will default to False. In addition, specifying 'numeric_only=None' is deprecated. Select only valid columns or specify the value of numeric_only to silence this warning.\n",
            "  monthly_wind[i] = monthly[i].mean()['평균풍속']\n",
            "<ipython-input-9-1ca6de8c0ff0>:11: FutureWarning: The default value of numeric_only in DataFrame.mean is deprecated. In a future version, it will default to False. In addition, specifying 'numeric_only=None' is deprecated. Select only valid columns or specify the value of numeric_only to silence this warning.\n",
            "  monthly_wind[i] = monthly[i].mean()['평균풍속']\n"
          ]
        },
        {
          "output_type": "execute_result",
          "data": {
            "text/plain": [
              "<function matplotlib.pyplot.show(close=None, block=None)>"
            ]
          },
          "metadata": {},
          "execution_count": 9
        },
        {
          "output_type": "display_data",
          "data": {
            "text/plain": [
              "<Figure size 640x480 with 1 Axes>"
            ],
            "image/png": "[encoded data removed]"
          },
          "metadata": {}
        }
      ]
    },
    {
      "cell_type": "markdown",
      "source": [
        "### 12-3"
      ],
      "metadata": {
        "id": "iuZWQxaWAmfH"
      }
    },
    {
      "cell_type": "code",
      "source": [
        "import pandas as pd\n",
        "import matplotlib.pyplot as plt\n",
        "import datetime as dt\n",
        "\n",
        "weather = pd.read_csv('/content/weather.csv', encoding='cp949')\n",
        "\n",
        "weather['month']= pd.DatetimeIndex(weather['일시']).month\n",
        "means = weather.groupby('month').mean()\n",
        "means['평균풍속'].plot(kind = 'bar')\n",
        "\n",
        "plt.show\n"
      ],
      "metadata": {
        "colab": {
          "base_uri": "https://localhost:8080/",
          "height": 528
        },
        "id": "aJiWi8Im_Dt3",
        "outputId": "c43eeab6-23dc-416e-c57e-afe56a21ff78"
      },
      "execution_count": null,
      "outputs": [
        {
          "output_type": "stream",
          "name": "stderr",
          "text": [
            "<ipython-input-10-51a9f0c3eaa8>:8: FutureWarning: The default value of numeric_only in DataFrameGroupBy.mean is deprecated. In a future version, numeric_only will default to False. Either specify numeric_only or select only columns which should be valid for the function.\n",
            "  means = weather.groupby('month').mean()\n"
          ]
        },
        {
          "output_type": "execute_result",
          "data": {
            "text/plain": [
              "<function matplotlib.pyplot.show(close=None, block=None)>"
            ]
          },
          "metadata": {},
          "execution_count": 10
        },
        {
          "output_type": "display_data",
          "data": {
            "text/plain": [
              "<Figure size 640x480 with 1 Axes>"
            ],
            "image/png": "[encoded data removed]"
          },
          "metadata": {}
        }
      ]
    },
    {
      "cell_type": "code",
      "source": [
        "import pandas as pd\n",
        "\n",
        "df_1 = pd.DataFrame( {'A' : ['a10', 'a11', 'a12'],\n",
        "                      'B' : ['b10', 'b11', 'b12'],\n",
        "                      'C' : ['c10', 'c11', 'c12']} , index = ['가', '나', '다'] )\n",
        "df_2 = pd.DataFrame( {'B' : ['b23', 'b24', 'b25'],\n",
        "                      'C' : ['c23', 'c24', 'c25'],\n",
        "                      'D' : ['d23', 'd24', 'd25']} , index = ['다', '라', '마'] )\n",
        "print(pd.concat( [df_1, df_2], axis = 0, join = 'outer' ) )\n",
        "print(pd.concat( [df_1, df_2], axis = 0, join = 'inner' ) )\n",
        "print(pd.concat( [df_1, df_2], axis = 1, join = 'outer' ) )\n",
        "print(pd.concat( [df_1, df_2], axis = 1, join = 'inner' ) )"
      ],
      "metadata": {
        "id": "sYEhBDfyAfMI",
        "colab": {
          "base_uri": "https://localhost:8080/"
        },
        "outputId": "59c4c61e-79dd-45b7-acae-f5a9a32847a7"
      },
      "execution_count": null,
      "outputs": [
        {
          "output_type": "stream",
          "name": "stdout",
          "text": [
            "     A    B    C    D\n",
            "가  a10  b10  c10  NaN\n",
            "나  a11  b11  c11  NaN\n",
            "다  a12  b12  c12  NaN\n",
            "다  NaN  b23  c23  d23\n",
            "라  NaN  b24  c24  d24\n",
            "마  NaN  b25  c25  d25\n",
            "     B    C\n",
            "가  b10  c10\n",
            "나  b11  c11\n",
            "다  b12  c12\n",
            "다  b23  c23\n",
            "라  b24  c24\n",
            "마  b25  c25\n",
            "     A    B    C    B    C    D\n",
            "가  a10  b10  c10  NaN  NaN  NaN\n",
            "나  a11  b11  c11  NaN  NaN  NaN\n",
            "다  a12  b12  c12  b23  c23  d23\n",
            "라  NaN  NaN  NaN  b24  c24  d24\n",
            "마  NaN  NaN  NaN  b25  c25  d25\n",
            "     A    B    C    B    C    D\n",
            "다  a12  b12  c12  b23  c23  d23\n"
          ]
        }
      ]
    },
    {
      "cell_type": "code",
      "source": [
        "import pandas as pd\n",
        "\n",
        "df_1 = pd.DataFrame( {'A' : ['a10', 'a11', 'a12'],\n",
        "                      'B' : ['b10', 'b11', 'b12'],\n",
        "                      'C' : ['c10', 'c11', 'c12']} , index = ['가', '나', '다'] )\n",
        "df_2 = pd.DataFrame( {'B' : ['b23', 'b24', 'b25'],\n",
        "                      'C' : ['c23', 'c24', 'c25'],\n",
        "                      'D' : ['d23', 'd24', 'd25']} , index = ['다', '라', '마'] )\n",
        "\n",
        "print('left outer \\n' , df_1.merge(df_2, how='left', on='B'))\n",
        "print('right outer \\n' , df_1.merge(df_2, how='right', on='B'))\n",
        "print('full outer \\n' , df_1.merge(df_2, how='outer', on='B'))\n",
        "print('inner outer \\n' , df_1.merge(df_2, how='inner', on='B'))"
      ],
      "metadata": {
        "colab": {
          "base_uri": "https://localhost:8080/"
        },
        "id": "m2FwMJuXwiW3",
        "outputId": "4e779cbd-0297-4b01-bebd-8d344eb5f455"
      },
      "execution_count": null,
      "outputs": [
        {
          "output_type": "stream",
          "name": "stdout",
          "text": [
            "left outer \n",
            "      A    B  C_x  C_y    D\n",
            "0  a10  b10  c10  NaN  NaN\n",
            "1  a11  b11  c11  NaN  NaN\n",
            "2  a12  b12  c12  NaN  NaN\n",
            "right outer \n",
            "      A    B  C_x  C_y    D\n",
            "0  NaN  b23  NaN  c23  d23\n",
            "1  NaN  b24  NaN  c24  d24\n",
            "2  NaN  b25  NaN  c25  d25\n",
            "full outer \n",
            "      A    B  C_x  C_y    D\n",
            "0  a10  b10  c10  NaN  NaN\n",
            "1  a11  b11  c11  NaN  NaN\n",
            "2  a12  b12  c12  NaN  NaN\n",
            "3  NaN  b23  NaN  c23  d23\n",
            "4  NaN  b24  NaN  c24  d24\n",
            "5  NaN  b25  NaN  c25  d25\n",
            "inner outer \n",
            " Empty DataFrame\n",
            "Columns: [A, B, C_x, C_y, D]\n",
            "Index: []\n"
          ]
        }
      ]
    },
    {
      "cell_type": "code",
      "source": [],
      "metadata": {
        "id": "B27xsw1ByMnH"
      },
      "execution_count": null,
      "outputs": []
    }
  ]
}